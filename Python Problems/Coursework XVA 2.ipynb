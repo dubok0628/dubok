{
 "cells": [
  {
   "cell_type": "code",
   "execution_count": 1,
   "id": "f87c57e3",
   "metadata": {},
   "outputs": [],
   "source": [
    "import numpy as np\n",
    "from scipy.stats import norm\n",
    "from scipy.stats import t\n",
    "import pandas as pd\n",
    "import warnings\n",
    "warnings.filterwarnings(\"ignore\")\n"
   ]
  },
  {
   "cell_type": "code",
   "execution_count": 3,
   "id": "ac445e81",
   "metadata": {},
   "outputs": [
    {
     "data": {
      "text/plain": [
       "-0.0012499999999999942"
      ]
     },
     "execution_count": 3,
     "metadata": {},
     "output_type": "execute_result"
    }
   ],
   "source": [
    "(0.05-0.5*0.15**2)-0.04"
   ]
  },
  {
   "cell_type": "code",
   "execution_count": 2,
   "id": "f438d1d9",
   "metadata": {},
   "outputs": [],
   "source": [
    "r=0.02\n",
    "mu=0.07\n",
    "sigma=0.16\n",
    "lamda=0.025\n",
    "K=0.04\n",
    "T=5"
   ]
  },
  {
   "cell_type": "code",
   "execution_count": 3,
   "id": "fbec66e9",
   "metadata": {
    "scrolled": false
   },
   "outputs": [
    {
     "name": "stdout",
     "output_type": "stream",
     "text": [
      "Value of swap at time 0 is 8107150.354627236\n",
      "Value of swap at time 1 is 6549293.36171978\n",
      "Value of swap at time 2 is 4960279.228954175\n",
      "Value of swap at time 3 is 3339484.8135332577\n",
      "Value of swap at time 4 is 1686274.5098039221\n",
      "Value of swap at time 5 is 0\n"
     ]
    }
   ],
   "source": [
    "years=[0,1,2,3,4,5]\n",
    "Swap_value=[]\n",
    "\n",
    "for t in years:\n",
    "    PV=0\n",
    "    for i in range (t+1, T+1):\n",
    "        cash_flow= ((mu-(sigma**2)/2)-K)*100000000/((1+r)**(i-t))\n",
    "        PV += cash_flow\n",
    "    Swap_value.append (PV)\n",
    "    print ('Value of swap at time {} is {}'.format (t,PV)) \n",
    "    "
   ]
  },
  {
   "cell_type": "code",
   "execution_count": 4,
   "id": "e27cfc69",
   "metadata": {},
   "outputs": [
    {
     "name": "stdout",
     "output_type": "stream",
     "text": [
      "EE at time 0 is 9827150.354627237\n",
      "EE at time 1 is 8269293.361719781\n",
      "EE at time 2 is 6680279.2289541755\n",
      "EE at time 3 is 5059484.813533259\n",
      "EE at time 4 is 3406274.509803923\n",
      "EE at time 5 is 1720000.0000000007\n"
     ]
    }
   ],
   "source": [
    "for t in range (0,T+1):\n",
    "    EE= ((mu-(sigma**2)/2)-K)*100000000+Swap_value[t]\n",
    "    print ('EE at time {} is {}'.format (t,EE)) "
   ]
  },
  {
   "cell_type": "code",
   "execution_count": 5,
   "id": "d8eb9d9a",
   "metadata": {
    "scrolled": false
   },
   "outputs": [
    {
     "name": "stdout",
     "output_type": "stream",
     "text": [
      "EPE at time 0 is 15904705.736839466\n",
      "EPE at time 1 is 14346848.74393201\n",
      "EPE at time 2 is 12757834.611166406\n",
      "EPE at time 3 is 11137040.195745489\n",
      "EPE at time 4 is 9483829.892016154\n",
      "EPE at time 5 is 7797555.382212231\n"
     ]
    }
   ],
   "source": [
    "Ex_PE=[]\n",
    "\n",
    "for t in range (0,T+1):\n",
    "    EPE= (((mu-K)*norm.cdf((mu-K)/sigma)+sigma * norm.pdf((mu-K)/sigma))*100000000*np.exp(-0.025))+Swap_value[t]\n",
    "    Ex_PE.append(EPE)\n",
    "    print ('EPE at time {} is {}'.format (t,EPE)) "
   ]
  },
  {
   "cell_type": "code",
   "execution_count": 6,
   "id": "cbc09c0c",
   "metadata": {
    "scrolled": false
   },
   "outputs": [
    {
     "name": "stdout",
     "output_type": "stream",
     "text": [
      "ENE at time 0 is 12978776.000754468\n",
      "ENE at time 1 is 11420919.007847013\n",
      "ENE at time 2 is 9831904.875081409\n",
      "ENE at time 3 is 8211110.459660491\n",
      "ENE at time 4 is 6557900.155931155\n",
      "ENE at time 5 is 4871625.646127233\n"
     ]
    }
   ],
   "source": [
    "Ex_NE=[]\n",
    "\n",
    "for t in range (0,T+1):\n",
    "    ENE= (((K-mu)*norm.cdf((K-mu)/sigma)+sigma * norm.pdf((mu-K)/sigma))*100000000*np.exp(-0.025))+Swap_value[t]\n",
    "    Ex_NE.append(ENE)\n",
    "    print ('ENE at time {} is {}'.format (t,ENE)) "
   ]
  },
  {
   "cell_type": "code",
   "execution_count": 7,
   "id": "11fad800",
   "metadata": {
    "scrolled": false
   },
   "outputs": [
    {
     "name": "stdout",
     "output_type": "stream",
     "text": [
      "PFE at time 0 is 132154365.84346\n",
      "PFE at time 1 is 106759795.12910563\n",
      "PFE at time 2 is 80857333.00046417\n",
      "PFE at time 3 is 54436821.6292499\n",
      "PFE at time 4 is 27487900.030611336\n",
      "PFE at time 5 is 0\n"
     ]
    }
   ],
   "source": [
    "years=[0,1,2,3,4,5]\n",
    "\n",
    "for t in years:\n",
    "    PFE=0\n",
    "    for i in range (t+1, T+1):\n",
    "        cash_flow= ((mu-(sigma**2)/2)+norm.ppf(0.95)*sigma*np.sqrt(1)-K)*100000000/((1+r)**(i-t))\n",
    "        PFE += cash_flow\n",
    "    print ('PFE at time {} is {}'.format (t,PFE)) \n",
    "                    "
   ]
  },
  {
   "cell_type": "markdown",
   "id": "fca70f70",
   "metadata": {},
   "source": [
    "### Method 1"
   ]
  },
  {
   "cell_type": "code",
   "execution_count": 8,
   "id": "5d160ea2",
   "metadata": {},
   "outputs": [],
   "source": [
    "def CVA_1 (mu,K, sigma):\n",
    "\n",
    "    Total_CVA=0\n",
    "    for i in range (1,T+1):\n",
    "        Total_CVA += 0.6* (((mu-K)*norm.cdf((mu-K)/sigma)+sigma * norm.pdf((mu-K)/sigma))*100000000*(1-np.exp(-0.025*i)))/((1+r)**i)\n",
    "\n",
    "    return Total_CVA/5\n",
    "\n",
    "\n",
    "def DVA_1 (mu,K, sigma):\n",
    "\n",
    "    Total_DVA=0\n",
    "    for i in range (1,T+1):\n",
    "        Total_DVA += 0.6* (((K-mu)*norm.cdf((K-mu)/sigma)+sigma * norm.pdf((mu-K)/sigma))*100000000*(1-np.exp(-0.025*i)))/((1+r)**i)\n",
    "\n",
    "    return Total_DVA/5"
   ]
  },
  {
   "cell_type": "code",
   "execution_count": 9,
   "id": "e9ea07c9",
   "metadata": {},
   "outputs": [
    {
     "data": {
      "text/plain": [
       "319970.7562633548"
      ]
     },
     "execution_count": 9,
     "metadata": {},
     "output_type": "execute_result"
    }
   ],
   "source": [
    "CVA_1 (mu,K, sigma)"
   ]
  },
  {
   "cell_type": "code",
   "execution_count": 10,
   "id": "a6f4a5c6",
   "metadata": {
    "scrolled": false
   },
   "outputs": [
    {
     "data": {
      "text/plain": [
       "199905.9533170057"
      ]
     },
     "execution_count": 10,
     "metadata": {},
     "output_type": "execute_result"
    }
   ],
   "source": [
    "DVA_1(mu,K, sigma)"
   ]
  },
  {
   "cell_type": "markdown",
   "id": "9e390bba",
   "metadata": {},
   "source": [
    "### Method 2"
   ]
  },
  {
   "cell_type": "code",
   "execution_count": 11,
   "id": "8a96c596",
   "metadata": {},
   "outputs": [],
   "source": [
    "Total_CVA=0\n",
    "for i in range (1,T+1):\n",
    "    Total_CVA += 0.6* 0.5* (Ex_PE[i]+ Ex_PE[i-1])*(1-np.exp(-0.025*i))/((1+r)**i)\n",
    "\n",
    "CVA= Total_CVA/5"
   ]
  },
  {
   "cell_type": "code",
   "execution_count": 12,
   "id": "45446372",
   "metadata": {
    "scrolled": true
   },
   "outputs": [
    {
     "data": {
      "text/plain": [
       "436914.6195318372"
      ]
     },
     "execution_count": 12,
     "metadata": {},
     "output_type": "execute_result"
    }
   ],
   "source": [
    "CVA"
   ]
  },
  {
   "cell_type": "code",
   "execution_count": 13,
   "id": "c0cefa1e",
   "metadata": {},
   "outputs": [],
   "source": [
    "Total_DVA=0\n",
    "for i in range (1,T+1):\n",
    "    Total_DVA += 0.6* 0.5* (Ex_NE[i]+ Ex_NE[i-1])*(1-np.exp(-0.025*i))/((1+r)**i)\n",
    "\n",
    "DVA= Total_DVA/5"
   ]
  },
  {
   "cell_type": "code",
   "execution_count": 14,
   "id": "877672d0",
   "metadata": {},
   "outputs": [
    {
     "data": {
      "text/plain": [
       "319814.2271325345"
      ]
     },
     "execution_count": 14,
     "metadata": {},
     "output_type": "execute_result"
    }
   ],
   "source": [
    "DVA"
   ]
  },
  {
   "cell_type": "markdown",
   "id": "ac7da929",
   "metadata": {},
   "source": [
    "### Notional 20 Mil"
   ]
  },
  {
   "cell_type": "code",
   "execution_count": 15,
   "id": "d8581558",
   "metadata": {},
   "outputs": [
    {
     "name": "stdout",
     "output_type": "stream",
     "text": [
      "Value of swap at time 0 is 8107150.354627235\n",
      "Value of swap at time 1 is 6549293.36171978\n",
      "Value of swap at time 2 is 4960279.228954175\n",
      "Value of swap at time 3 is 3339484.8135332577\n",
      "Value of swap at time 4 is 1686274.509803922\n",
      "Value of swap at time 5 is 0\n"
     ]
    }
   ],
   "source": [
    "years=[0,1,2,3,4,5]\n",
    "Swap_value=[]\n",
    "\n",
    "for t in years:\n",
    "    PV2=0\n",
    "    for i in range (t+1, T+1):\n",
    "        cash_flow2= ((mu-(sigma**2)/2)-K)*20000000/((1+r)**(i-t))\n",
    "        PV2 += cash_flow2\n",
    "    Swap_value.append (PV2)\n",
    "    print ('Value of swap at time {} is {}'.format (t,PV2*5)) \n",
    "    "
   ]
  },
  {
   "cell_type": "code",
   "execution_count": 16,
   "id": "f7fdf7ab",
   "metadata": {
    "scrolled": true
   },
   "outputs": [
    {
     "name": "stdout",
     "output_type": "stream",
     "text": [
      "EE of Portfolio at time 1 is 8269293.36171978\n",
      "EE of Portfolio at time 2 is 6680279.2289541755\n",
      "EE of Portfolio at time 3 is 5059484.813533259\n",
      "EE of Portfolio at time 4 is 3406274.509803923\n",
      "EE of Portfolio at time 5 is 1720000.0000000005\n"
     ]
    }
   ],
   "source": [
    "for t in range (1,T+1):\n",
    "    EE= ((mu-(sigma**2)/2)-K)*20000000+Swap_value[t]\n",
    "    print ('EE of Portfolio at time {} is {}'.format (t,EE*5)) "
   ]
  },
  {
   "cell_type": "code",
   "execution_count": 17,
   "id": "a94f4217",
   "metadata": {
    "scrolled": true
   },
   "outputs": [
    {
     "name": "stdout",
     "output_type": "stream",
     "text": [
      "EPE of Portfolio at time 0 is 15943791.14584514\n",
      "EPE of Portfolio at time 1 is 14385934.152937684\n",
      "EPE of Portfolio at time 2 is 12796920.020172078\n",
      "EPE of Portfolio at time 3 is 11176125.604751162\n",
      "EPE of Portfolio at time 4 is 9522915.301021826\n",
      "EPE of Portfolio at time 5 is 7836640.791217905\n"
     ]
    }
   ],
   "source": [
    "Ex_PE2=[]\n",
    "\n",
    "for t in range (0,T+1):\n",
    "    EPE= (((mu-K)*norm.cdf((mu-K)/sigma)+sigma * norm.pdf((mu-K)/sigma))*20000000*np.exp(-0.02))+Swap_value[t]\n",
    "    Ex_PE2.append(EPE)\n",
    "    print ('EPE of Portfolio at time {} is {}'.format (t,EPE*5)) "
   ]
  },
  {
   "cell_type": "code",
   "execution_count": 18,
   "id": "f8048a39",
   "metadata": {
    "scrolled": true
   },
   "outputs": [
    {
     "name": "stdout",
     "output_type": "stream",
     "text": [
      "ENE of Portfolio at time 0 is 13003195.125924874\n",
      "ENE of Portfolio at time 1 is 11445338.133017419\n",
      "ENE of Portfolio at time 2 is 9856324.000251813\n",
      "ENE of Portfolio at time 3 is 8235529.584830897\n",
      "ENE of Portfolio at time 4 is 6582319.281101561\n",
      "ENE of Portfolio at time 5 is 4896044.771297639\n"
     ]
    }
   ],
   "source": [
    "Ex_NE2=[]\n",
    "\n",
    "for t in range (0,T+1):\n",
    "    ENE= (((K-mu)*norm.cdf((K-mu)/sigma)+sigma * norm.pdf((mu-K)/sigma))*20000000*np.exp(-0.02))+Swap_value[t]\n",
    "    Ex_NE2.append(ENE)\n",
    "    print ('ENE of Portfolio at time {} is {}'.format (t,ENE*5)) "
   ]
  },
  {
   "cell_type": "code",
   "execution_count": 19,
   "id": "6174522e",
   "metadata": {},
   "outputs": [
    {
     "name": "stdout",
     "output_type": "stream",
     "text": [
      "PFE at time 0 is 132154365.84346\n",
      "PFE at time 1 is 106759795.12910563\n",
      "PFE at time 2 is 80857333.00046417\n",
      "PFE at time 3 is 54436821.6292499\n",
      "PFE at time 4 is 27487900.030611336\n",
      "PFE at time 5 is 0\n"
     ]
    }
   ],
   "source": [
    "years=[0,1,2,3,4,5]\n",
    "\n",
    "for t in years:\n",
    "    PFE=0\n",
    "    for i in range (t+1, T+1):\n",
    "        cash_flow= ((mu-(sigma**2)/2)+norm.ppf(0.95)*sigma*np.sqrt(1)-K)*20000000/((1+r)**(i-t))\n",
    "        PFE += cash_flow\n",
    "    print ('PFE at time {} is {}'.format (t,PFE*5)) "
   ]
  },
  {
   "cell_type": "markdown",
   "id": "4f06c8d2",
   "metadata": {},
   "source": [
    "## Method 1"
   ]
  },
  {
   "cell_type": "code",
   "execution_count": 20,
   "id": "2ccd1226",
   "metadata": {},
   "outputs": [],
   "source": [
    "def CVA_2 (mu,K, sigma):\n",
    "\n",
    "    Total_CVA=0\n",
    "    for i in range (1,T+1):\n",
    "        Total_CVA += 0.6* (((mu-K)*norm.cdf((mu-K)/sigma)+sigma * norm.pdf((mu-K)/sigma))*20000000*(1-np.exp(-0.02*i)))/((1+r)**i)\n",
    "\n",
    "    return Total_CVA/5\n",
    "\n",
    "\n",
    "def DVA_2 (mu,K, sigma):\n",
    "\n",
    "    Total_DVA=0\n",
    "    for i in range (1,T+1):\n",
    "        Total_DVA += 0.6* (((K-mu)*norm.cdf((K-mu)/sigma)+sigma * norm.pdf((K-mu)/sigma))*20000000*(1-np.exp(-0.02*i)))/((1+r)**i)\n",
    "\n",
    "    return Total_DVA/5"
   ]
  },
  {
   "cell_type": "code",
   "execution_count": 21,
   "id": "c509283c",
   "metadata": {},
   "outputs": [
    {
     "data": {
      "text/plain": [
       "258266.90337352705"
      ]
     },
     "execution_count": 21,
     "metadata": {},
     "output_type": "execute_result"
    }
   ],
   "source": [
    "CVA_2 (mu,K, sigma)*5"
   ]
  },
  {
   "cell_type": "code",
   "execution_count": 22,
   "id": "5015300f",
   "metadata": {
    "scrolled": true
   },
   "outputs": [
    {
     "data": {
      "text/plain": [
       "161355.6567857787"
      ]
     },
     "execution_count": 22,
     "metadata": {},
     "output_type": "execute_result"
    }
   ],
   "source": [
    "DVA_2 (mu,K, sigma)*5"
   ]
  },
  {
   "cell_type": "markdown",
   "id": "be9c5bed",
   "metadata": {},
   "source": [
    "### Method 2"
   ]
  },
  {
   "cell_type": "code",
   "execution_count": 23,
   "id": "5c0c07c9",
   "metadata": {},
   "outputs": [],
   "source": [
    "Total_CVA=0\n",
    "\n",
    "for i in range (1,T+1):\n",
    "    Total_CVA += 0.6* 0.5* (Ex_PE2[i]+ Ex_PE2[i-1])*(1-np.exp(-0.02*i))/((1+r)**i)\n",
    "\n",
    "CVA= Total_CVA/5"
   ]
  },
  {
   "cell_type": "code",
   "execution_count": 24,
   "id": "7848658b",
   "metadata": {
    "scrolled": true
   },
   "outputs": [
    {
     "data": {
      "text/plain": [
       "353717.5025011208"
      ]
     },
     "execution_count": 24,
     "metadata": {},
     "output_type": "execute_result"
    }
   ],
   "source": [
    "CVA*5"
   ]
  },
  {
   "cell_type": "code",
   "execution_count": 25,
   "id": "bbad4cb3",
   "metadata": {},
   "outputs": [],
   "source": [
    "Total_DVA=0\n",
    "for i in range (1,T+1):\n",
    "    Total_DVA += 0.6* 0.5* (Ex_NE2[i]+ Ex_NE2[i-1])*(1-np.exp(-0.02*i))/((1+r)**i)\n",
    "\n",
    "DVA= Total_DVA/5"
   ]
  },
  {
   "cell_type": "code",
   "execution_count": 26,
   "id": "b27871c5",
   "metadata": {},
   "outputs": [
    {
     "data": {
      "text/plain": [
       "258725.22716730612"
      ]
     },
     "execution_count": 26,
     "metadata": {},
     "output_type": "execute_result"
    }
   ],
   "source": [
    "DVA*5"
   ]
  },
  {
   "cell_type": "markdown",
   "id": "bde68230",
   "metadata": {},
   "source": [
    "### MONTE CARLO SIMULTATION"
   ]
  },
  {
   "cell_type": "code",
   "execution_count": 27,
   "id": "918a8fa6",
   "metadata": {},
   "outputs": [],
   "source": [
    "num_of_simulation = 2**17\n",
    "\n",
    "Asset_1=[]\n",
    "List_of_PE_1=[]\n",
    "List_of_NE_1=[]\n",
    "List_of_CVA_1=[]\n",
    "List_of_DVA_1=[]\n",
    "    \n",
    "\n",
    "Asset_2=[]\n",
    "List_of_PE_2=[]\n",
    "List_of_NE_2=[]\n",
    "List_of_CVA_2=[]\n",
    "List_of_DVA_2=[]\n",
    "    \n",
    "\n",
    "Asset_3=[]\n",
    "List_of_PE_3=[]\n",
    "List_of_NE_3=[]\n",
    "List_of_CVA_3=[]\n",
    "List_of_DVA_3=[]\n",
    "\n",
    "Asset_4=[]\n",
    "List_of_PE_4=[]\n",
    "List_of_NE_4=[]\n",
    "List_of_CVA_4=[]\n",
    "List_of_DVA_4=[]\n",
    "\n",
    "\n",
    "Asset_5=[]\n",
    "List_of_PE_5=[]\n",
    "List_of_NE_5=[]\n",
    "List_of_CVA_5=[]\n",
    "List_of_DVA_5=[]\n",
    "\n",
    "for i in range (2**17):    \n",
    "    PV_1=0\n",
    "    PE_1=[]\n",
    "    NE_1=[]\n",
    "    CVA_1=0\n",
    "    DVA_1=0\n",
    "    \n",
    "    PV_2=0\n",
    "    PE_2=[]\n",
    "    NE_2=[]\n",
    "    CVA_2=0\n",
    "    DVA_2=0\n",
    "    \n",
    "    PV_3=0\n",
    "    PE_3=[]\n",
    "    NE_3=[]\n",
    "    CVA_3=0\n",
    "    DVA_3=0\n",
    "    \n",
    "    PV_4=0\n",
    "    PE_4=[]\n",
    "    NE_4=[]\n",
    "    CVA_4=0\n",
    "    DVA_4=0       \n",
    "\n",
    "    PV_5=0\n",
    "    PE_5=[]\n",
    "    NE_5=[]\n",
    "    CVA_5=0\n",
    "    DVA_5=0 \n",
    "    \n",
    "    for j in range (1,T+1):\n",
    "        #Asset 1\n",
    "        r1= mu-(sigma**2)/2+sigma*np.random.normal(0,1)*np.sqrt(1)\n",
    "        cash_flow_1= (r1-K)*20000000/((1+r)**(j))\n",
    "        \n",
    "        PE_1=[]\n",
    "        NE_1=[]\n",
    "        \n",
    "        if cash_flow_1 > 0:\n",
    "            PE_1.append (cash_flow_1)\n",
    "            CVA_1 += cash_flow_1*(1-np.exp(-0.02*j))/((1+r)**j)*0.6\n",
    "        elif cash_flow_1 <0:\n",
    "            NE_1.append (cash_flow_1)\n",
    "            DVA_1 += cash_flow_1*(1-np.exp(-0.02*j))/((1+r)**j)*0.6\n",
    "        else:\n",
    "            pass\n",
    "        PV_1 += cash_flow_1\n",
    " \n",
    "\n",
    "        #Asset 2\n",
    "        r2= mu-(sigma**2)/2+sigma*np.random.normal(0,1)*np.sqrt(1)\n",
    "        cash_flow_2= (r2-K)*20000000/((1+r)**(j))\n",
    "          \n",
    "        PE_2=[]\n",
    "        NE_2=[]\n",
    "        \n",
    "        if cash_flow_2 > 0:\n",
    "            PE_2.append (cash_flow_2)\n",
    "            CVA_2 += cash_flow_2*(1-np.exp(-0.02*j))/((1+r)**j)*0.6\n",
    "        elif cash_flow_2 <0:\n",
    "            NE_2.append (cash_flow_2)\n",
    "            DVA_2 += cash_flow_2*(1-np.exp(-0.02*j))/((1+r)**j)*0.6\n",
    "        else:\n",
    "            pass      \n",
    "        PV_2 += cash_flow_2\n",
    "\n",
    "        #Asset 3\n",
    "        r3= mu-(sigma**2)/2+sigma*np.random.normal(0,1)*np.sqrt(1)\n",
    "        cash_flow_3= (r3-K)*20000000/((1+r)**(j))\n",
    "        \n",
    "        PE_3=[]\n",
    "        NE_3=[]\n",
    "        \n",
    "        if cash_flow_3 > 0:\n",
    "            PE_3.append (cash_flow_3)\n",
    "            CVA_3 += cash_flow_3*(1-np.exp(-0.02*j))/((1+r)**j)*0.6\n",
    "        elif cash_flow_3 <0:\n",
    "            NE_3.append (cash_flow_3)\n",
    "            DVA_3 += cash_flow_3*(1-np.exp(-0.02*j))/((1+r)**j)*0.6\n",
    "        else:\n",
    "            pass   \n",
    "        PV_3 += cash_flow_3\n",
    "\n",
    "\n",
    "        #Asset 4\n",
    "        r4= mu-(sigma**2)/2+sigma*np.random.normal(0,1)*np.sqrt(1)\n",
    "        cash_flow_4= (r4-K)*20000000/((1+r)**(j))\n",
    "        \n",
    "        PE_4=[]\n",
    "        NE_4=[]\n",
    "        \n",
    "        if cash_flow_4 > 0:\n",
    "            PE_4.append (cash_flow_4)\n",
    "            CVA_4 += cash_flow_4*(1-np.exp(-0.02*j))/((1+r)**j)*0.6\n",
    "        elif cash_flow_4 <0:\n",
    "            NE_4.append (cash_flow_4)\n",
    "            DVA_4 += cash_flow_4*(1-np.exp(-0.02*j))/((1+r)**j)*0.6\n",
    "        else:\n",
    "            pass   \n",
    "        \n",
    "        PV_4 += cash_flow_4\n",
    "\n",
    "        #Asset 5\n",
    "        r5= mu-(sigma**2)/2+sigma*np.random.normal(0,1)*np.sqrt(1)\n",
    "        cash_flow_5= (r5-K)*20000000/((1+r)**(j))\n",
    "        \n",
    "        PE_5=[]\n",
    "        NE_5=[]\n",
    "        \n",
    "        if cash_flow_5 > 0:\n",
    "            PE_5.append (cash_flow_5)\n",
    "            CVA_5 += cash_flow_5*(1-np.exp(-0.02*j))/((1+r)**j)*0.6\n",
    "        elif cash_flow_5 <0:\n",
    "            NE_5.append (cash_flow_5)\n",
    "            DVA_5 += cash_flow_5*(1-np.exp(-0.02*j))/((1+r)**j)*0.6\n",
    "        else:\n",
    "            pass   \n",
    "        \n",
    "        \n",
    "        PV_5 += cash_flow_5\n",
    "        \n",
    "    Asset_1. append (PV_1)\n",
    "    List_of_PE_1.append (np.sum(PE_1)/len(PE_1))\n",
    "    List_of_NE_1.append (np.sum(NE_1)/len(NE_1))\n",
    "    List_of_CVA_1.append (CVA_1/5)\n",
    "    List_of_DVA_1.append (DVA_1/5)\n",
    "    \n",
    "    Asset_2. append (PV_2)\n",
    "    List_of_PE_2.append (np.sum(PE_2)/len(PE_2))\n",
    "    List_of_NE_2.append (np.sum(NE_2)/len(NE_2))\n",
    "    List_of_CVA_2.append (CVA_2/5)\n",
    "    List_of_DVA_2.append (DVA_2/5)    \n",
    "    \n",
    "    Asset_3. append (PV_3)\n",
    "    List_of_PE_3.append (np.sum(PE_3)/len(PE_3))\n",
    "    List_of_NE_3.append (np.sum(NE_3)/len(NE_3))\n",
    "    List_of_CVA_3.append (CVA_3/5)\n",
    "    List_of_DVA_3.append (DVA_3/5)\n",
    "    \n",
    "    Asset_4. append (PV_4)\n",
    "    List_of_PE_4.append (np.sum(PE_4)/len(PE_4))\n",
    "    List_of_NE_4.append (np.sum(NE_4)/len(NE_4))\n",
    "    List_of_CVA_4.append (CVA_4/5)\n",
    "    List_of_DVA_4.append (DVA_4/5)\n",
    "    \n",
    "    Asset_5. append (PV_5)\n",
    "    List_of_PE_5.append (np.sum(PE_5)/len(PE_5))\n",
    "    List_of_NE_5.append (np.sum(NE_5)/len(NE_5))\n",
    "    List_of_CVA_5.append (CVA_5/5)\n",
    "    List_of_DVA_5.append (DVA_5/5)"
   ]
  },
  {
   "cell_type": "code",
   "execution_count": 28,
   "id": "dd57bfbd",
   "metadata": {},
   "outputs": [
    {
     "data": {
      "text/plain": [
       "1637369.9791442866"
      ]
     },
     "execution_count": 28,
     "metadata": {},
     "output_type": "execute_result"
    }
   ],
   "source": [
    "V1= np.sum(Asset_1)/num_of_simulation\n",
    "V1"
   ]
  },
  {
   "cell_type": "code",
   "execution_count": 29,
   "id": "2ca64d9f",
   "metadata": {},
   "outputs": [
    {
     "data": {
      "text/plain": [
       "1625205.5934249877"
      ]
     },
     "execution_count": 29,
     "metadata": {},
     "output_type": "execute_result"
    }
   ],
   "source": [
    "V2= np.sum(Asset_2)/num_of_simulation\n",
    "V2"
   ]
  },
  {
   "cell_type": "code",
   "execution_count": 30,
   "id": "cc0a4dd5",
   "metadata": {
    "scrolled": true
   },
   "outputs": [
    {
     "data": {
      "text/plain": [
       "1637574.0013709292"
      ]
     },
     "execution_count": 30,
     "metadata": {},
     "output_type": "execute_result"
    }
   ],
   "source": [
    "V3= np.sum(Asset_3)/num_of_simulation\n",
    "V3"
   ]
  },
  {
   "cell_type": "code",
   "execution_count": 31,
   "id": "079ed15a",
   "metadata": {},
   "outputs": [
    {
     "data": {
      "text/plain": [
       "1658062.8915703523"
      ]
     },
     "execution_count": 31,
     "metadata": {},
     "output_type": "execute_result"
    }
   ],
   "source": [
    "V4= np.sum(Asset_4)/num_of_simulation\n",
    "V4"
   ]
  },
  {
   "cell_type": "code",
   "execution_count": 32,
   "id": "82225fbe",
   "metadata": {},
   "outputs": [
    {
     "data": {
      "text/plain": [
       "1628140.8687613315"
      ]
     },
     "execution_count": 32,
     "metadata": {},
     "output_type": "execute_result"
    }
   ],
   "source": [
    "V5= np.sum(Asset_5)/num_of_simulation\n",
    "V5"
   ]
  },
  {
   "cell_type": "code",
   "execution_count": 33,
   "id": "0cf6a3d0",
   "metadata": {},
   "outputs": [
    {
     "data": {
      "text/plain": [
       "8186353.334271887"
      ]
     },
     "execution_count": 33,
     "metadata": {},
     "output_type": "execute_result"
    }
   ],
   "source": [
    "V1 + V2 + V3 + V4 +V5"
   ]
  },
  {
   "cell_type": "code",
   "execution_count": 34,
   "id": "21735772",
   "metadata": {
    "scrolled": true
   },
   "outputs": [
    {
     "name": "stdout",
     "output_type": "stream",
     "text": [
      "2436266.488531963\n",
      "-2206283.162510108\n"
     ]
    }
   ],
   "source": [
    "List_of_PE_1=[x for x in List_of_PE_1 if str(x) != 'nan']\n",
    "EPE_1= np.sum(List_of_PE_1)/len(List_of_PE_1)\n",
    "print(EPE_1)\n",
    "\n",
    "List_of_NE_1=[x for x in List_of_NE_1 if str(x) != 'nan']\n",
    "ENE_1= np.sum(List_of_NE_1)/len(List_of_NE_1)\n",
    "print(ENE_1)\n"
   ]
  },
  {
   "cell_type": "code",
   "execution_count": 35,
   "id": "a5b704cb",
   "metadata": {},
   "outputs": [
    {
     "name": "stdout",
     "output_type": "stream",
     "text": [
      "2430182.4111149935\n",
      "-2203553.7877921304\n"
     ]
    }
   ],
   "source": [
    "List_of_PE_2=[x for x in List_of_PE_2 if str(x) != 'nan']\n",
    "EPE_2= np.sum(List_of_PE_2)/len(List_of_PE_2)\n",
    "print(EPE_2)\n",
    "\n",
    "List_of_NE_2=[x for x in List_of_NE_2 if str(x) != 'nan']\n",
    "ENE_2= np.sum(List_of_NE_2)/len(List_of_NE_2)\n",
    "print(ENE_2)"
   ]
  },
  {
   "cell_type": "code",
   "execution_count": 36,
   "id": "db805036",
   "metadata": {},
   "outputs": [
    {
     "name": "stdout",
     "output_type": "stream",
     "text": [
      "2427004.5149029437\n",
      "-2201887.114397045\n"
     ]
    }
   ],
   "source": [
    "List_of_PE_3=[x for x in List_of_PE_3 if str(x) != 'nan']\n",
    "EPE_3= np.sum(List_of_PE_3)/len(List_of_PE_3)\n",
    "print(EPE_3)\n",
    "\n",
    "List_of_NE_3=[x for x in List_of_NE_3 if str(x) != 'nan']\n",
    "ENE_3= np.sum(List_of_NE_3)/len(List_of_NE_3)\n",
    "print(ENE_3)"
   ]
  },
  {
   "cell_type": "code",
   "execution_count": 37,
   "id": "fad0ef82",
   "metadata": {},
   "outputs": [
    {
     "name": "stdout",
     "output_type": "stream",
     "text": [
      "2435367.160544245\n",
      "-2216560.273778176\n"
     ]
    }
   ],
   "source": [
    "List_of_PE_4=[x for x in List_of_PE_4 if str(x) != 'nan']\n",
    "EPE_4= np.sum(List_of_PE_4)/len(List_of_PE_4)\n",
    "print(EPE_4)\n",
    "\n",
    "List_of_NE_4=[x for x in List_of_NE_4 if str(x) != 'nan']\n",
    "ENE_4= np.sum(List_of_NE_4)/len(List_of_NE_4)\n",
    "print(ENE_4)"
   ]
  },
  {
   "cell_type": "code",
   "execution_count": 38,
   "id": "c02b9657",
   "metadata": {
    "scrolled": true
   },
   "outputs": [
    {
     "name": "stdout",
     "output_type": "stream",
     "text": [
      "2438891.0510593117\n",
      "-2210889.986026783\n"
     ]
    }
   ],
   "source": [
    "List_of_PE_5=[x for x in List_of_PE_5 if str(x) != 'nan']\n",
    "EPE_5= np.sum(List_of_PE_5)/len(List_of_PE_5)\n",
    "print(EPE_5)\n",
    "\n",
    "List_of_NE_5=[x for x in List_of_NE_5 if str(x) != 'nan']\n",
    "ENE_5= np.sum(List_of_NE_5)/len(List_of_NE_5)\n",
    "print(ENE_5)"
   ]
  },
  {
   "cell_type": "code",
   "execution_count": 39,
   "id": "db687f5f",
   "metadata": {},
   "outputs": [
    {
     "data": {
      "text/plain": [
       "12167711.626153456"
      ]
     },
     "execution_count": 39,
     "metadata": {},
     "output_type": "execute_result"
    }
   ],
   "source": [
    "EPE=(EPE_1+EPE_2+EPE_3+EPE_4+EPE_5)\n",
    "EPE"
   ]
  },
  {
   "cell_type": "code",
   "execution_count": 40,
   "id": "1f3062a0",
   "metadata": {},
   "outputs": [
    {
     "name": "stdout",
     "output_type": "stream",
     "text": [
      "-11039174.324504241\n"
     ]
    }
   ],
   "source": [
    "ENE=(ENE_1+ENE_2+ENE_3+ENE_4+ENE_5)\n",
    "print (ENE)"
   ]
  },
  {
   "cell_type": "code",
   "execution_count": 41,
   "id": "6d2ba07b",
   "metadata": {},
   "outputs": [
    {
     "name": "stdout",
     "output_type": "stream",
     "text": [
      "43833.35484980105\n",
      "43757.22599283954\n",
      "43795.15527558238\n",
      "43927.33297369718\n",
      "43848.25516169082\n"
     ]
    }
   ],
   "source": [
    "CVA_1=np.sum(List_of_CVA_1)/len(List_of_CVA_1)\n",
    "CVA_2=np.sum(List_of_CVA_2)/len(List_of_CVA_2)\n",
    "CVA_3=np.sum(List_of_CVA_3)/len(List_of_CVA_3)\n",
    "CVA_4=np.sum(List_of_CVA_4)/len(List_of_CVA_4)\n",
    "CVA_5=np.sum(List_of_CVA_5)/len(List_of_CVA_5)\n",
    "print(CVA_1); print (CVA_2)\n",
    "print(CVA_3); print (CVA_4)\n",
    "print(CVA_5); "
   ]
  },
  {
   "cell_type": "code",
   "execution_count": 42,
   "id": "1264c2e8",
   "metadata": {},
   "outputs": [
    {
     "data": {
      "text/plain": [
       "219161.32425361098"
      ]
     },
     "execution_count": 42,
     "metadata": {},
     "output_type": "execute_result"
    }
   ],
   "source": [
    "CVA_1 + CVA_2 + CVA_3 + CVA_4 + CVA_5"
   ]
  },
  {
   "cell_type": "code",
   "execution_count": 43,
   "id": "5943d23b",
   "metadata": {},
   "outputs": [
    {
     "name": "stdout",
     "output_type": "stream",
     "text": [
      "-33383.35937906879\n",
      "-33388.66084312806\n",
      "-33422.930360727456\n",
      "-33400.9359351655\n",
      "-33502.169358309315\n"
     ]
    }
   ],
   "source": [
    "DVA_1=np.sum(List_of_DVA_1)/len(List_of_DVA_1)\n",
    "DVA_2=np.sum(List_of_DVA_2)/len(List_of_DVA_2)\n",
    "DVA_3=np.sum(List_of_DVA_3)/len(List_of_DVA_3)\n",
    "DVA_4=np.sum(List_of_DVA_4)/len(List_of_DVA_4)\n",
    "DVA_5=np.sum(List_of_DVA_5)/len(List_of_DVA_5)\n",
    "print(DVA_1); print (DVA_2)\n",
    "print(DVA_3); print (DVA_4)\n",
    "print(DVA_5); "
   ]
  },
  {
   "cell_type": "code",
   "execution_count": 44,
   "id": "492abde3",
   "metadata": {},
   "outputs": [
    {
     "data": {
      "text/plain": [
       "-167098.0558763991"
      ]
     },
     "execution_count": 44,
     "metadata": {},
     "output_type": "execute_result"
    }
   ],
   "source": [
    "DVA_1 + DVA_2 + DVA_3 + DVA_4 + DVA_5"
   ]
  },
  {
   "cell_type": "code",
   "execution_count": 45,
   "id": "f484394a",
   "metadata": {
    "scrolled": true
   },
   "outputs": [
    {
     "data": {
      "text/plain": [
       "12705285.672122214"
      ]
     },
     "execution_count": 45,
     "metadata": {},
     "output_type": "execute_result"
    }
   ],
   "source": [
    "np.quantile(Asset_1, 0.95)"
   ]
  },
  {
   "cell_type": "code",
   "execution_count": 46,
   "id": "154f6263",
   "metadata": {},
   "outputs": [
    {
     "data": {
      "text/plain": [
       "12770393.480663572"
      ]
     },
     "execution_count": 46,
     "metadata": {},
     "output_type": "execute_result"
    }
   ],
   "source": [
    "np.quantile(Asset_2, 0.95)"
   ]
  },
  {
   "cell_type": "code",
   "execution_count": 47,
   "id": "f270ca27",
   "metadata": {},
   "outputs": [
    {
     "data": {
      "text/plain": [
       "12727191.868076969"
      ]
     },
     "execution_count": 47,
     "metadata": {},
     "output_type": "execute_result"
    }
   ],
   "source": [
    "np.quantile(Asset_3, 0.95)"
   ]
  },
  {
   "cell_type": "code",
   "execution_count": 48,
   "id": "e763e7f0",
   "metadata": {},
   "outputs": [
    {
     "data": {
      "text/plain": [
       "12751294.954258198"
      ]
     },
     "execution_count": 48,
     "metadata": {},
     "output_type": "execute_result"
    }
   ],
   "source": [
    "np.quantile(Asset_4, 0.95)"
   ]
  },
  {
   "cell_type": "code",
   "execution_count": 49,
   "id": "dd6736b7",
   "metadata": {},
   "outputs": [
    {
     "data": {
      "text/plain": [
       "12732995.489959128"
      ]
     },
     "execution_count": 49,
     "metadata": {},
     "output_type": "execute_result"
    }
   ],
   "source": [
    "np.quantile(Asset_5, 0.95)"
   ]
  },
  {
   "cell_type": "code",
   "execution_count": 50,
   "id": "8461593f",
   "metadata": {},
   "outputs": [
    {
     "data": {
      "text/plain": [
       "63687161.46508008"
      ]
     },
     "execution_count": 50,
     "metadata": {},
     "output_type": "execute_result"
    }
   ],
   "source": [
    "np.quantile(Asset_1, 0.95) + np.quantile(Asset_2, 0.95) + np.quantile(Asset_3, 0.95) + np.quantile(Asset_4, 0.95) + np.quantile(Asset_5, 0.95)"
   ]
  },
  {
   "cell_type": "code",
   "execution_count": 72,
   "id": "fbacb725",
   "metadata": {},
   "outputs": [],
   "source": [
    "num_of_simulation = 2**17\n",
    "\n",
    "Asset_1=[]\n",
    "List_of_PE_1=[]\n",
    "List_of_NE_1=[]\n",
    "List_of_CVA_1=[]\n",
    "List_of_DVA_1=[]\n",
    "    \n",
    "\n",
    "Asset_2=[]\n",
    "List_of_PE_2=[]\n",
    "List_of_NE_2=[]\n",
    "List_of_CVA_2=[]\n",
    "List_of_DVA_2=[]\n",
    "    \n",
    "\n",
    "Asset_3=[]\n",
    "List_of_PE_3=[]\n",
    "List_of_NE_3=[]\n",
    "List_of_CVA_3=[]\n",
    "List_of_DVA_3=[]\n",
    "\n",
    "Asset_4=[]\n",
    "List_of_PE_4=[]\n",
    "List_of_NE_4=[]\n",
    "List_of_CVA_4=[]\n",
    "List_of_DVA_4=[]\n",
    "\n",
    "\n",
    "Asset_5=[]\n",
    "List_of_PE_5=[]\n",
    "List_of_NE_5=[]\n",
    "List_of_CVA_5=[]\n",
    "List_of_DVA_5=[]\n",
    "\n",
    "for i in range (2**17):    \n",
    "    PV_1=0\n",
    "    CVA_1=0\n",
    "    DVA_1=0\n",
    "    \n",
    "    PV_2=0\n",
    "    CVA_2=0\n",
    "    DVA_2=0\n",
    "    \n",
    "    PV_3=0\n",
    "    CVA_3=0\n",
    "    DVA_3=0\n",
    "    \n",
    "    PV_4=0\n",
    "    CVA_4=0\n",
    "    DVA_4=0       \n",
    "\n",
    "    PV_5=0\n",
    "    CVA_5=0\n",
    "    DVA_5=0 \n",
    "    \n",
    "    for j in range (1,61):\n",
    "        PE_1=[]\n",
    "        NE_1=[]\n",
    "        PE_2=[]\n",
    "        NE_2=[]\n",
    "        PE_3=[]\n",
    "        NE_3=[]       \n",
    "        PE_4=[]\n",
    "        NE_4=[]\n",
    "        PE_5=[]\n",
    "        NE_5=[]  \n",
    "        \n",
    "        if j% 12 == 0:\n",
    "            #Asset 1\n",
    "            r1= mu-(sigma**2)/2+sigma*np.random.normal(0,1)*np.sqrt(1)\n",
    "            cash_flow_1= (r1-K)*20000000/((1+r)**(j/12))\n",
    "            if cash_flow_1 > 0:\n",
    "                PE_1.append (cash_flow_1)\n",
    "                CVA_1 += cash_flow_1*(1-np.exp(-0.02*i))/((1+r)**j/12)*0.6\n",
    "            elif cash_flow_1 <0:\n",
    "                NE_1.append (cash_flow_1)\n",
    "                DVA_1 += cash_flow_1*(1-np.exp(-0.02*i))/((1+r)**j/12)*0.6\n",
    "            else:\n",
    "                pass\n",
    "            PV_1 += cash_flow_1\n",
    " \n",
    "\n",
    "            #Asset 2\n",
    "            r2= mu-(sigma**2)/2+sigma*np.random.normal(0,1)*np.sqrt(1)\n",
    "            cash_flow_2= (r2-K)*20000000/((1+r)**(j/12))\n",
    "        \n",
    "            if cash_flow_2 > 0:\n",
    "                PE_2.append (cash_flow_2)\n",
    "                CVA_2 += cash_flow_2*(1-np.exp(-0.02*i))/((1+r)**j/12)*0.6\n",
    "            elif cash_flow_2 <0:\n",
    "                NE_2.append (cash_flow_2)\n",
    "                DVA_2 += cash_flow_2*(1-np.exp(-0.02*i))/((1+r)**j/12)*0.6\n",
    "            else:\n",
    "                pass      \n",
    "            PV_2 += cash_flow_2\n",
    "\n",
    "            #Asset 3\n",
    "            r3= mu-(sigma**2)/2+sigma*np.random.normal(0,1)*np.sqrt(1)\n",
    "            cash_flow_3= (r3-K)*20000000/((1+r)**(j/12))\n",
    "        \n",
    "            if cash_flow_3 > 0:\n",
    "                PE_3.append (cash_flow_3)\n",
    "                CVA_3 += cash_flow_3*(1-np.exp(-0.02*i))/((1+r)**j/12)*0.6\n",
    "            elif cash_flow_3 <0:\n",
    "                NE_3.append (cash_flow_3)\n",
    "                DVA_3 += cash_flow_3*(1-np.exp(-0.02*i))/((1+r)**j/12)*0.6\n",
    "            else:\n",
    "                pass   \n",
    "            PV_3 += cash_flow_3\n",
    "\n",
    "\n",
    "            #Asset 4\n",
    "            r4= mu-(sigma**2)/2+sigma*np.random.normal(0,1)*np.sqrt(1)\n",
    "            cash_flow_4= (r4-K)*20000000/((1+r)**(j/12))\n",
    "        \n",
    "            if cash_flow_4 > 0:\n",
    "                PE_4.append (cash_flow_4)\n",
    "                CVA_4 += cash_flow_4*(1-np.exp(-0.02*i))/((1+r)**j/12)*0.6\n",
    "            elif cash_flow_4 <0:\n",
    "                NE_4.append (cash_flow_4)\n",
    "                DVA_4 += cash_flow_4*(1-np.exp(-0.02*i))/((1+r)**j/12)*0.6\n",
    "            else:\n",
    "                pass   \n",
    "        \n",
    "            PV_4 += cash_flow_4\n",
    "\n",
    "            #Asset 5\n",
    "            r5= mu-(sigma**2)/2+sigma*np.random.normal(0,1)*np.sqrt(1)\n",
    "            cash_flow_5= (r5-K)*20000000/((1+r)**(j/12))\n",
    "    \n",
    "            if cash_flow_5 > 0:\n",
    "                PE_5.append (cash_flow_5)\n",
    "                CVA_5 += cash_flow_5*(1-np.exp(-0.02*i))/((1+r)**j/12)*0.6\n",
    "            elif cash_flow_5 <0:\n",
    "                NE_5.append (cash_flow_5)\n",
    "                DVA_5 += cash_flow_5*(1-np.exp(-0.02*i))/((1+r)**j/12)*0.6\n",
    "            else:\n",
    "                pass   \n",
    "        \n",
    "            PV_5 += cash_flow_5\n",
    "            \n",
    "        elif j% 12 != 0:\n",
    "            #Asset 1\n",
    "            r1= mu/12-((sigma*np.sqrt((j%12)/12))**2)/2+sigma*np.sqrt((j%12)/12)*np.random.normal(0,1)\n",
    "            cash_flow_1= (r1-(K*(j%12)))*20000000/((1+r)**((j%12)/12))\n",
    "            if cash_flow_1 > 0:\n",
    "                PE_1.append (cash_flow_1)\n",
    "                CVA_1 += cash_flow_1*(1-np.exp(-0.02/12*j))/((1+r)**((j%12)/12))*0.6\n",
    "            elif cash_flow_1 <0:\n",
    "                NE_1.append (cash_flow_1)\n",
    "                DVA_1 += cash_flow_1*(1-np.exp(-0.02/12*j))/((1+r)**((j%12)/12))*0.6\n",
    "            else:\n",
    "                pass\n",
    "      \n",
    " \n",
    "\n",
    "            #Asset 2\n",
    "            r2= mu/12-((sigma*np.sqrt((j%12)/12))**2)/2+sigma*np.sqrt((j%12)/12)*np.random.normal(0,1)\n",
    "            cash_flow_2= (r2-(K*(j%12)))*20000000/((1+r)**((j%12)/12))\n",
    "            if cash_flow_2 > 0:\n",
    "                PE_2.append (cash_flow_2)\n",
    "                CVA_2 += cash_flow_2*(1-np.exp(-0.02/12*j))/((1+r)**((j%12)/12))*0.6\n",
    "            elif cash_flow_2 <0:\n",
    "                NE_2.append (cash_flow_2)\n",
    "                DVA_2 += cash_flow_2*(1-np.exp(-0.02/12*j))/((1+r)**((j%12)/12))*0.6\n",
    "            else:\n",
    "                pass\n",
    "     \n",
    "            #Asset 3\n",
    "            r3= mu/12-((sigma*np.sqrt((j%12)/12))**2)/2+sigma*np.sqrt((j%12)/12)*np.random.normal(0,1)\n",
    "            cash_flow_3= (r3-(K*(j%12)))*20000000/((1+r)**((j%12)/12))\n",
    "            if cash_flow_3 > 0:\n",
    "                PE_3.append (cash_flow_3)\n",
    "                CVA_3 += cash_flow_3*(1-np.exp(-0.02/12*j))/((1+r)**((j%12)/12))*0.6\n",
    "            elif cash_flow_3 <0:\n",
    "                NE_3.append (cash_flow_3)\n",
    "                DVA_3 += cash_flow_3*(1-np.exp(-0.02/12*j))/((1+r)**((j%12)/12))*0.6\n",
    "            else:\n",
    "                pass\n",
    "      \n",
    "            \n",
    "\n",
    "\n",
    "            #Asset 4\n",
    "            r4= mu/12-((sigma*np.sqrt((j%12)/12))**2)/2+sigma*np.sqrt((j%12)/12)*np.random.normal(0,1)\n",
    "            cash_flow_4= (r4-(K*(j%12)))*20000000/((1+r)**((j%12)/12))\n",
    "            if cash_flow_4 > 0:\n",
    "                PE_4.append (cash_flow_4)\n",
    "                CVA_4 += cash_flow_4*(1-np.exp(-0.02/12*j))/((1+r)**((j%12)/12))*0.6\n",
    "            elif cash_flow_4 <0:\n",
    "                NE_4.append (cash_flow_4)\n",
    "                DVA_4 += cash_flow_4*(1-np.exp(-0.02/12*j))/((1+r)**((j%12)/12))*0.6\n",
    "            else:\n",
    "                pass\n",
    "   \n",
    "\n",
    "            #Asset 5\n",
    "            r5= mu/12-((sigma*np.sqrt((j%12)/12))**2)/2+sigma*np.sqrt((j%12)/12)*np.random.normal(0,1)\n",
    "            cash_flow_5= (r5-(K*(j%12)))*20000000/((1+r)**((j%12)/12))\n",
    "            if cash_flow_5 > 0:\n",
    "                PE_5.append (cash_flow_5)\n",
    "                CVA_5 += cash_flow_5*(1-np.exp(-0.02/12*j))/((1+r)**((j%12)/12))*0.6\n",
    "            elif cash_flow_5 <0:\n",
    "                NE_5.append (cash_flow_5)\n",
    "                DVA_5 += cash_flow_5*(1-np.exp(-0.02/12*j))/((1+r)**((j%12)/12))*0.6\n",
    "            else:\n",
    "                pass\n",
    "     \n",
    "\n",
    "\n",
    "    Asset_1. append (PV_1)\n",
    "    List_of_PE_1.append (np.sum(PE_1)/len(PE_1))\n",
    "    List_of_NE_1.append (np.sum(NE_1)/len(NE_1))\n",
    "    List_of_CVA_1.append (CVA_1/60)\n",
    "    List_of_DVA_1.append (DVA_1/60)\n",
    "    \n",
    "    Asset_2. append (PV_2)\n",
    "    List_of_PE_2.append (np.sum(PE_2)/len(PE_2))\n",
    "    List_of_NE_2.append (np.sum(NE_2)/len(NE_2))\n",
    "    List_of_CVA_2.append (CVA_2/60)\n",
    "    List_of_DVA_2.append (DVA_2/60)    \n",
    "    \n",
    "    Asset_3. append (PV_3)\n",
    "    List_of_PE_3.append (np.sum(PE_3)/len(PE_3))\n",
    "    List_of_NE_3.append (np.sum(NE_3)/len(NE_3))\n",
    "    List_of_CVA_3.append (CVA_3/60)\n",
    "    List_of_DVA_3.append (DVA_3/60)\n",
    "    \n",
    "    Asset_4. append (PV_4)\n",
    "    List_of_PE_4.append (np.sum(PE_4)/len(PE_4))\n",
    "    List_of_NE_4.append (np.sum(NE_4)/len(NE_4))\n",
    "    List_of_CVA_4.append (CVA_4/60)\n",
    "    List_of_DVA_4.append (DVA_4/60)\n",
    "    \n",
    "    Asset_5. append (PV_5)\n",
    "    List_of_PE_5.append (np.sum(PE_5)/len(PE_5))\n",
    "    List_of_NE_5.append (np.sum(NE_5)/len(NE_5))\n",
    "    List_of_CVA_5.append (CVA_5/60)\n",
    "    List_of_DVA_5.append (DVA_5/60)"
   ]
  },
  {
   "cell_type": "code",
   "execution_count": 73,
   "id": "bdc1659e",
   "metadata": {},
   "outputs": [
    {
     "data": {
      "text/plain": [
       "1606619.7561680588"
      ]
     },
     "execution_count": 73,
     "metadata": {},
     "output_type": "execute_result"
    }
   ],
   "source": [
    "V1= np.sum(Asset_1)/num_of_simulation\n",
    "V1"
   ]
  },
  {
   "cell_type": "code",
   "execution_count": 74,
   "id": "310cf706",
   "metadata": {},
   "outputs": [
    {
     "data": {
      "text/plain": [
       "1630938.5150437464"
      ]
     },
     "execution_count": 74,
     "metadata": {},
     "output_type": "execute_result"
    }
   ],
   "source": [
    "V2= np.sum(Asset_2)/num_of_simulation\n",
    "V2"
   ]
  },
  {
   "cell_type": "code",
   "execution_count": 75,
   "id": "40999fd2",
   "metadata": {},
   "outputs": [
    {
     "data": {
      "text/plain": [
       "1583858.537234741"
      ]
     },
     "execution_count": 75,
     "metadata": {},
     "output_type": "execute_result"
    }
   ],
   "source": [
    "V3= np.sum(Asset_3)/num_of_simulation\n",
    "V3"
   ]
  },
  {
   "cell_type": "code",
   "execution_count": 76,
   "id": "86a5f2dd",
   "metadata": {},
   "outputs": [
    {
     "data": {
      "text/plain": [
       "1628757.8354362347"
      ]
     },
     "execution_count": 76,
     "metadata": {},
     "output_type": "execute_result"
    }
   ],
   "source": [
    "V4= np.sum(Asset_4)/num_of_simulation\n",
    "V4"
   ]
  },
  {
   "cell_type": "code",
   "execution_count": 77,
   "id": "d2b78c9c",
   "metadata": {},
   "outputs": [
    {
     "data": {
      "text/plain": [
       "1623299.6321105496"
      ]
     },
     "execution_count": 77,
     "metadata": {},
     "output_type": "execute_result"
    }
   ],
   "source": [
    "V5= np.sum(Asset_5)/num_of_simulation\n",
    "V5"
   ]
  },
  {
   "cell_type": "code",
   "execution_count": 78,
   "id": "0376246a",
   "metadata": {},
   "outputs": [
    {
     "data": {
      "text/plain": [
       "8073474.27599333"
      ]
     },
     "execution_count": 78,
     "metadata": {},
     "output_type": "execute_result"
    }
   ],
   "source": [
    "V1 + V2 + V3 + V4 +V5"
   ]
  },
  {
   "cell_type": "code",
   "execution_count": 79,
   "id": "23462597",
   "metadata": {},
   "outputs": [
    {
     "name": "stdout",
     "output_type": "stream",
     "text": [
      "2437250.3281494156\n",
      "-2195832.8621709417\n"
     ]
    }
   ],
   "source": [
    "List_of_PE_1=[x for x in List_of_PE_1 if str(x) != 'nan']\n",
    "EPE_1= np.sum(List_of_PE_1)/len(List_of_PE_1)\n",
    "print(EPE_1)\n",
    "\n",
    "List_of_NE_1=[x for x in List_of_NE_1 if str(x) != 'nan']\n",
    "ENE_1= np.sum(List_of_NE_1)/len(List_of_NE_1)\n",
    "print(ENE_1)"
   ]
  },
  {
   "cell_type": "code",
   "execution_count": 80,
   "id": "df9df9fb",
   "metadata": {},
   "outputs": [
    {
     "name": "stdout",
     "output_type": "stream",
     "text": [
      "2441722.938306206\n",
      "-2200329.06204105\n",
      "2419562.545062834\n",
      "-2201965.6548202005\n",
      "2424871.483579843\n",
      "-2203865.450891724\n",
      "2434531.715372334\n",
      "-2196837.6194775268\n"
     ]
    }
   ],
   "source": [
    "List_of_PE_2=[x for x in List_of_PE_2 if str(x) != 'nan']\n",
    "EPE_2= np.sum(List_of_PE_2)/len(List_of_PE_2)\n",
    "print(EPE_2)\n",
    "\n",
    "List_of_NE_2=[x for x in List_of_NE_2 if str(x) != 'nan']\n",
    "ENE_2= np.sum(List_of_NE_2)/len(List_of_NE_2)\n",
    "print(ENE_2)\n",
    "\n",
    "List_of_PE_3=[x for x in List_of_PE_3 if str(x) != 'nan']\n",
    "EPE_3= np.sum(List_of_PE_3)/len(List_of_PE_3)\n",
    "print(EPE_3)\n",
    "\n",
    "List_of_NE_3=[x for x in List_of_NE_3 if str(x) != 'nan']\n",
    "ENE_3= np.sum(List_of_NE_3)/len(List_of_NE_3)\n",
    "print(ENE_3)\n",
    "\n",
    "List_of_PE_4=[x for x in List_of_PE_4 if str(x) != 'nan']\n",
    "EPE_4= np.sum(List_of_PE_4)/len(List_of_PE_4)\n",
    "print(EPE_4)\n",
    "\n",
    "List_of_NE_4=[x for x in List_of_NE_4 if str(x) != 'nan']\n",
    "ENE_4= np.sum(List_of_NE_4)/len(List_of_NE_4)\n",
    "print(ENE_4)\n",
    "\n",
    "List_of_PE_5=[x for x in List_of_PE_5 if str(x) != 'nan']\n",
    "EPE_5= np.sum(List_of_PE_5)/len(List_of_PE_5)\n",
    "print(EPE_5)\n",
    "\n",
    "List_of_NE_5=[x for x in List_of_NE_5 if str(x) != 'nan']\n",
    "ENE_5= np.sum(List_of_NE_5)/len(List_of_NE_5)\n",
    "print(ENE_5)"
   ]
  },
  {
   "cell_type": "code",
   "execution_count": 81,
   "id": "6dc4f60c",
   "metadata": {},
   "outputs": [
    {
     "data": {
      "text/plain": [
       "12157939.01047063"
      ]
     },
     "execution_count": 81,
     "metadata": {},
     "output_type": "execute_result"
    }
   ],
   "source": [
    "EPE=(EPE_1+EPE_2+EPE_3+EPE_4+EPE_5)\n",
    "EPE"
   ]
  },
  {
   "cell_type": "code",
   "execution_count": 82,
   "id": "d5591411",
   "metadata": {},
   "outputs": [
    {
     "name": "stdout",
     "output_type": "stream",
     "text": [
      "-10998830.649401443\n"
     ]
    }
   ],
   "source": [
    "ENE=(ENE_1+ENE_2+ENE_3+ENE_4+ENE_5)\n",
    "print (ENE)"
   ]
  },
  {
   "cell_type": "code",
   "execution_count": 83,
   "id": "ea94a089",
   "metadata": {},
   "outputs": [
    {
     "name": "stdout",
     "output_type": "stream",
     "text": [
      "430859.64664363826\n",
      "431899.05189674994\n",
      "429113.62921644654\n",
      "431469.8811966848\n",
      "431765.03528120206\n"
     ]
    }
   ],
   "source": [
    "CVA_1=np.sum(List_of_CVA_1)/len(List_of_CVA_1)\n",
    "CVA_2=np.sum(List_of_CVA_2)/len(List_of_CVA_2)\n",
    "CVA_3=np.sum(List_of_CVA_3)/len(List_of_CVA_3)\n",
    "CVA_4=np.sum(List_of_CVA_4)/len(List_of_CVA_4)\n",
    "CVA_5=np.sum(List_of_CVA_5)/len(List_of_CVA_5)\n",
    "print(CVA_1); print (CVA_2)\n",
    "print(CVA_3); print (CVA_4)\n",
    "print(CVA_5); "
   ]
  },
  {
   "cell_type": "code",
   "execution_count": 84,
   "id": "a1bd018e",
   "metadata": {},
   "outputs": [
    {
     "data": {
      "text/plain": [
       "2155107.244234721"
      ]
     },
     "execution_count": 84,
     "metadata": {},
     "output_type": "execute_result"
    }
   ],
   "source": [
    "CVA_1 + CVA_2 + CVA_3 + CVA_4 + CVA_5"
   ]
  },
  {
   "cell_type": "code",
   "execution_count": 85,
   "id": "f1dcdaa2",
   "metadata": {},
   "outputs": [
    {
     "name": "stdout",
     "output_type": "stream",
     "text": [
      "-461644.8607862299\n",
      "-461068.2266007104\n",
      "-462050.072622182\n",
      "-461422.6290385818\n",
      "-461837.0409977147\n"
     ]
    }
   ],
   "source": [
    "DVA_1=np.sum(List_of_DVA_1)/len(List_of_DVA_1)\n",
    "DVA_2=np.sum(List_of_DVA_2)/len(List_of_DVA_2)\n",
    "DVA_3=np.sum(List_of_DVA_3)/len(List_of_DVA_3)\n",
    "DVA_4=np.sum(List_of_DVA_4)/len(List_of_DVA_4)\n",
    "DVA_5=np.sum(List_of_DVA_5)/len(List_of_DVA_5)\n",
    "print(DVA_1); print (DVA_2)\n",
    "print(DVA_3); print (DVA_4)\n",
    "print(DVA_5); "
   ]
  },
  {
   "cell_type": "code",
   "execution_count": 86,
   "id": "c4269e45",
   "metadata": {},
   "outputs": [
    {
     "data": {
      "text/plain": [
       "-2308022.830045419"
      ]
     },
     "execution_count": 86,
     "metadata": {},
     "output_type": "execute_result"
    }
   ],
   "source": [
    "DVA_1 + DVA_2 + DVA_3 + DVA_4 + DVA_5"
   ]
  },
  {
   "cell_type": "code",
   "execution_count": 87,
   "id": "2b284968",
   "metadata": {},
   "outputs": [
    {
     "data": {
      "text/plain": [
       "12695458.082113342"
      ]
     },
     "execution_count": 87,
     "metadata": {},
     "output_type": "execute_result"
    }
   ],
   "source": [
    "np.quantile(Asset_1, 0.95)"
   ]
  },
  {
   "cell_type": "code",
   "execution_count": 88,
   "id": "06565389",
   "metadata": {},
   "outputs": [
    {
     "data": {
      "text/plain": [
       "12714406.597166503"
      ]
     },
     "execution_count": 88,
     "metadata": {},
     "output_type": "execute_result"
    }
   ],
   "source": [
    "np.quantile(Asset_2, 0.95)"
   ]
  },
  {
   "cell_type": "code",
   "execution_count": 89,
   "id": "c9aab05b",
   "metadata": {},
   "outputs": [
    {
     "data": {
      "text/plain": [
       "12685209.265865175"
      ]
     },
     "execution_count": 89,
     "metadata": {},
     "output_type": "execute_result"
    }
   ],
   "source": [
    "np.quantile(Asset_3, 0.95)"
   ]
  },
  {
   "cell_type": "code",
   "execution_count": 90,
   "id": "2d8030f2",
   "metadata": {},
   "outputs": [
    {
     "data": {
      "text/plain": [
       "12707694.148551121"
      ]
     },
     "execution_count": 90,
     "metadata": {},
     "output_type": "execute_result"
    }
   ],
   "source": [
    "np.quantile(Asset_4, 0.95)"
   ]
  },
  {
   "cell_type": "code",
   "execution_count": 91,
   "id": "74c7629d",
   "metadata": {},
   "outputs": [
    {
     "data": {
      "text/plain": [
       "12768915.459362641"
      ]
     },
     "execution_count": 91,
     "metadata": {},
     "output_type": "execute_result"
    }
   ],
   "source": [
    "np.quantile(Asset_5, 0.95)"
   ]
  },
  {
   "cell_type": "code",
   "execution_count": 92,
   "id": "44816e2c",
   "metadata": {},
   "outputs": [
    {
     "data": {
      "text/plain": [
       "63571683.55305878"
      ]
     },
     "execution_count": 92,
     "metadata": {},
     "output_type": "execute_result"
    }
   ],
   "source": [
    "np.quantile(Asset_1, 0.95) + np.quantile(Asset_2, 0.95) + np.quantile(Asset_3, 0.95) + np.quantile(Asset_4, 0.95) + np.quantile(Asset_5, 0.95)"
   ]
  },
  {
   "cell_type": "code",
   "execution_count": null,
   "id": "4beb9c21",
   "metadata": {},
   "outputs": [],
   "source": [
    "import matplotlib.pyplot as plt"
   ]
  },
  {
   "cell_type": "code",
   "execution_count": null,
   "id": "a67c363b",
   "metadata": {
    "scrolled": true
   },
   "outputs": [],
   "source": [
    "plt.hist(Asset_1, bins=50)\n",
    "plt.show()"
   ]
  },
  {
   "cell_type": "code",
   "execution_count": null,
   "id": "6c758687",
   "metadata": {},
   "outputs": [],
   "source": []
  }
 ],
 "metadata": {
  "kernelspec": {
   "display_name": "Python 3",
   "language": "python",
   "name": "python3"
  },
  "language_info": {
   "codemirror_mode": {
    "name": "ipython",
    "version": 3
   },
   "file_extension": ".py",
   "mimetype": "text/x-python",
   "name": "python",
   "nbconvert_exporter": "python",
   "pygments_lexer": "ipython3",
   "version": "3.8.8"
  }
 },
 "nbformat": 4,
 "nbformat_minor": 5
}
